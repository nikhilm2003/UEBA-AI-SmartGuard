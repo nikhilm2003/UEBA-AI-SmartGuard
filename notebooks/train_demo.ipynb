from src.train_model import train_and_save_model
train_and_save_model()
